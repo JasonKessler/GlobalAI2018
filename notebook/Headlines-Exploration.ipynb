{
 "cells": [
  {
   "cell_type": "markdown",
   "metadata": {},
   "source": [
    "# Using Scattertext to Explore the Effectiveness of Headlines\n",
    "### Jason S. Kessler ([@jasonkessler](http://www.twitter.com/JasonKessler))\n",
    "\n",
    "The code in this notebook shows how you can use the Python package Scattertext to explore how language used in headlines \n",
    "can correlate with social engagement.\n",
    "\n",
    "For background on the term-class association scores used and semiotic squares, please see https://github.com/JasonKessler/PuPPyTalk and https://github.com/JasonKessler/SemioticSquaresTalk\n",
    "\n",
    "This notebook makes heavy use of the library Scattertext (https://github.com/JasonKessler/scattertext) for language processing and visualizations.\n",
    "\n",
    "The data used were scraped from Facebook by Max Woolf.  Please see his original notebook at https://github.com/minimaxir/clickbait-cluster."
   ]
  },
  {
   "cell_type": "code",
   "execution_count": 3,
   "metadata": {},
   "outputs": [
    {
     "data": {
      "text/html": [
       "<style>.container { width:98% !important; }</style>"
      ],
      "text/plain": [
       "<IPython.core.display.HTML object>"
      ]
     },
     "metadata": {},
     "output_type": "display_data"
    }
   ],
   "source": [
    "import pandas as pd\n",
    "import numpy as np\n",
    "import sys\n",
    "import umap\n",
    "import spacy\n",
    "import scattertext as st\n",
    "from gensim.models import word2vec\n",
    "import re\n",
    "from glob import glob\n",
    "from scipy.stats import rankdata\n",
    "from IPython.display import IFrame\n",
    "from IPython.core.display import display, HTML\n",
    "display(HTML(\"<style>.container { width:98% !important; }</style>\"))\n",
    "import matplotlib.pyplot as plt"
   ]
  },
  {
   "cell_type": "code",
   "execution_count": 4,
   "metadata": {},
   "outputs": [],
   "source": [
    "nlp = spacy.load('en')"
   ]
  },
  {
   "cell_type": "code",
   "execution_count": 5,
   "metadata": {},
   "outputs": [],
   "source": [
    "# you may need to clone https://github.com/JasonKessler/PuPPyTalk to find this data\n",
    "df = pd.concat([pd.read_csv(fn, sep='\\t')\n",
    "                .assign(publication=fn.split('/')[-1].split('_')[0]) \n",
    "                for fn in glob('../../PuPPyTalk/notebooks/fb_headlines/*')]).reset_index()\n",
    "df['status_published'] = pd.to_datetime(df.status_published)"
   ]
  },
  {
   "cell_type": "code",
   "execution_count": 6,
   "metadata": {},
   "outputs": [
    {
     "data": {
      "text/plain": [
       "NYTimes     10326\n",
       "CNN          9284\n",
       "BuzzFeed     5386\n",
       "Upworthy      824\n",
       "Name: publication, dtype: int64"
      ]
     },
     "execution_count": 6,
     "metadata": {},
     "output_type": "execute_result"
    }
   ],
   "source": [
    "df_2016 = df[df.status_published.apply(lambda x: x.year >= 2016)].drop_duplicates()\n",
    "df_2016 = df_2016.loc[df_2016['link_name'].dropna().index]\n",
    "df_2016.publication.value_counts()"
   ]
  },
  {
   "cell_type": "code",
   "execution_count": 7,
   "metadata": {},
   "outputs": [],
   "source": [
    "df_2016['parse'] = df_2016['link_name'].apply(nlp)"
   ]
  },
  {
   "cell_type": "code",
   "execution_count": 8,
   "metadata": {},
   "outputs": [],
   "source": [
    "# Restrict to headlines longer than two words\n",
    "df_2016 = df_2016[df_2016['parse'].apply(len) > 2]"
   ]
  },
  {
   "cell_type": "code",
   "execution_count": 9,
   "metadata": {},
   "outputs": [],
   "source": [
    "from scipy.stats import rankdata\n",
    "df_2016['reaction_percentile'] = df_2016.groupby('publication')['num_reactions'].apply(lambda x: pd.Series(rankdata(x)/len(x), index=x.index))\n",
    "df_2016['reaction_bin'] = df_2016.reaction_percentile.apply(lambda x: 'Hi' if x > 2./3 else 'Lo' if x < 1./3 else 'Mid')"
   ]
  },
  {
   "cell_type": "code",
   "execution_count": 10,
   "metadata": {},
   "outputs": [],
   "source": [
    "df_2016 = df_2016[df_2016.page_id.isin(['BuzzFeed', 'NYTimes'])]"
   ]
  },
  {
   "cell_type": "code",
   "execution_count": 25,
   "metadata": {},
   "outputs": [],
   "source": [
    "reaction_corpus = (st.CorpusFromParsedDocuments(df_2016, \n",
    "                                                parsed_col='parse', \n",
    "                                                category_col='reaction_bin',\n",
    "                                                feats_from_spacy_doc=st.PhraseMachinePhrases()\n",
    "                                               )\n",
    "                   .build()\n",
    "                   .compact(st.ClassPercentageCompactor(term_count=2))\n",
    "                   .compact(st.CompactTerms(slack=5)))"
   ]
  },
  {
   "cell_type": "code",
   "execution_count": 26,
   "metadata": {},
   "outputs": [
    {
     "data": {
      "text/plain": [
       "634"
      ]
     },
     "execution_count": 26,
     "metadata": {},
     "output_type": "execute_result"
    }
   ],
   "source": [
    "len(reaction_corpus.get_terms())"
   ]
  },
  {
   "cell_type": "code",
   "execution_count": 27,
   "metadata": {},
   "outputs": [],
   "source": [
    "def get_metadata_from_corpus(corpus):\n",
    "    df = corpus.get_df()\n",
    "    return (df.page_id + ', ' \n",
    "            + df.reaction_percentile.apply(lambda x: str(int(x * 100)) + '%') + ', ' \n",
    "            + df.status_published.apply(lambda x: str(x.date())))"
   ]
  },
  {
   "cell_type": "code",
   "execution_count": 28,
   "metadata": {},
   "outputs": [
    {
     "data": {
      "text/html": [
       "\n",
       "        <iframe\n",
       "            width=\"1200\"\n",
       "            height=\"700\"\n",
       "            src=\"reaction_scaled_f_score.html\"\n",
       "            frameborder=\"0\"\n",
       "            allowfullscreen\n",
       "        ></iframe>\n",
       "        "
      ],
      "text/plain": [
       "<IPython.lib.display.IFrame at 0x13328a9e8>"
      ]
     },
     "execution_count": 28,
     "metadata": {},
     "output_type": "execute_result"
    }
   ],
   "source": [
    "html = st.produce_frequency_explorer(reaction_corpus,\n",
    "                                     category='Hi',\n",
    "                                     not_categories=['Lo'],\n",
    "                                     neutral_categories=['Mid'],\n",
    "                                     neutral_category_name='Mid',\n",
    "                                     minimum_term_frequency=0,\n",
    "                                     pmi_filter_thresold=0,\n",
    "                                     use_full_doc = True,\n",
    "                                     term_scorer = st.ScaledFScorePresets(beta=1, one_to_neg_one=True),\n",
    "                                     grey_threshold=0,\n",
    "                                     width_in_pixels=1000,\n",
    "                                     metadata=get_metadata_from_corpus(reaction_corpus),\n",
    "                                     show_neutral=True,\n",
    "                                     show_characteristic=False)\n",
    "file_name = 'reaction_scaled_f_score.html'\n",
    "open(file_name, 'wb').write(html.encode('utf-8'))\n",
    "IFrame(src=file_name, width = 1200, height=700)"
   ]
  },
  {
   "cell_type": "code",
   "execution_count": 33,
   "metadata": {},
   "outputs": [],
   "source": [
    "reaction_corpus_unigram = (st.CorpusFromParsedDocuments(df_2016, parsed_col='parse', category_col='reaction_bin')\n",
    "                           .build()\n",
    "                           .compact(st.ClassPercentageCompactor(term_count=3))).get_unigram_corpus()"
   ]
  },
  {
   "cell_type": "code",
   "execution_count": 35,
   "metadata": {},
   "outputs": [
    {
     "data": {
      "text/html": [
       "\n",
       "        <iframe\n",
       "            width=\"1200\"\n",
       "            height=\"700\"\n",
       "            src=\"reaction_scaled_f_score_unigram.html\"\n",
       "            frameborder=\"0\"\n",
       "            allowfullscreen\n",
       "        ></iframe>\n",
       "        "
      ],
      "text/plain": [
       "<IPython.lib.display.IFrame at 0x15e5f87f0>"
      ]
     },
     "execution_count": 35,
     "metadata": {},
     "output_type": "execute_result"
    }
   ],
   "source": [
    "html = st.produce_frequency_explorer(reaction_corpus_unigram,\n",
    "                                     category='Hi',\n",
    "                                     not_categories=['Lo'],\n",
    "                                     neutral_categories=['Mid'],\n",
    "                                     neutral_category_name='Mid',\n",
    "                                     minimum_term_frequency=6,\n",
    "                                     pmi_filter_thresold=0,\n",
    "                                     use_full_doc = True,\n",
    "                                     term_scorer = st.ScaledFScorePresets(beta=1, one_to_neg_one=True),\n",
    "                                     grey_threshold=0,\n",
    "                                     width_in_pixels=1000,\n",
    "                                     metadata=get_metadata_from_corpus(reaction_corpus),\n",
    "                                     show_neutral=True,\n",
    "                                     show_characteristic=False)\n",
    "file_name = 'reaction_scaled_f_score_unigram.html'\n",
    "open(file_name, 'wb').write(html.encode('utf-8'))\n",
    "IFrame(src=file_name, width = 1200, height=700)"
   ]
  },
  {
   "cell_type": "code",
   "execution_count": 21,
   "metadata": {},
   "outputs": [],
   "source": []
  },
  {
   "cell_type": "code",
   "execution_count": 42,
   "metadata": {},
   "outputs": [
    {
     "data": {
      "text/html": [
       "\n",
       "        <iframe\n",
       "            width=\"1200\"\n",
       "            height=\"700\"\n",
       "            src=\"reaction_umap_projection.html\"\n",
       "            frameborder=\"0\"\n",
       "            allowfullscreen\n",
       "        ></iframe>\n",
       "        "
      ],
      "text/plain": [
       "<IPython.lib.display.IFrame at 0x10f2bda58>"
      ]
     },
     "execution_count": 42,
     "metadata": {},
     "output_type": "execute_result"
    }
   ],
   "source": [
    "html = st.produce_projection_explorer(reaction_corpus_unigram.compact(st.ClassPercentageCompactor(term_count=4)),\n",
    "                                      category='Hi', \n",
    "                                      not_categories=['Lo'], \n",
    "                                      neutral_categories=['Mid'],\n",
    "                                      term_scorer = st.RankDifference(),\n",
    "                                      neutral_category_name='Mid',\n",
    "                                      width_in_pixels=1000,\n",
    "                                      use_full_doc=True,\n",
    "                                      projection_model = umap.UMAP(metric='cosine'),\n",
    "                                      term_acceptance_re=re.compile(''),\n",
    "                                      metadata=get_metadata_from_corpus(reaction_corpus))\n",
    "file_name = 'reaction_umap_projection.html'\n",
    "open(file_name, 'wb').write(html.encode('utf-8'))\n",
    "IFrame(src=file_name, width = 1200, height=700)"
   ]
  },
  {
   "cell_type": "code",
   "execution_count": 54,
   "metadata": {},
   "outputs": [],
   "source": [
    "# Eliminate other categories from dataset (e.g., Upworthy or mid-engagment)\n",
    "df_2016['category'] = df_2016.publication + ' ' + df_2016.reaction_bin\n",
    "df_2016_four_square = df_2016[df_2016.publication.isin(['BuzzFeed', 'NYTimes']) \n",
    "                              & df_2016.reaction_bin.isin(['Hi', 'Lo'])]\n",
    "# Create corpus and filter terms\n",
    "four_square_corpus = (st.CorpusFromParsedDocuments(df_2016_four_square, category_col = 'category', parsed_col = 'parse')\n",
    "                      .build()\n",
    "                      .compact(st.CompactTerms(minimum_term_count=2, slack=6))\n",
    "                      .compact(st.ClassPercentageCompactor(term_count=2)))"
   ]
  },
  {
   "cell_type": "code",
   "execution_count": 55,
   "metadata": {},
   "outputs": [],
   "source": [
    "four_square_axes = st.FourSquareAxes(four_square_corpus, \n",
    "                                     ['NYTimes Hi'], \n",
    "                                     ['NYTimes Lo'], \n",
    "                                     ['BuzzFeed Hi'], \n",
    "                                     ['BuzzFeed Lo'], \n",
    "                                     labels = {'a': 'Appeals to all',\n",
    "                                               'a_and_not_b': 'NY Times: ↑ Engagement',\n",
    "                                               'b_and_not_a': 'NY Times: ↓ Engagement',\n",
    "                                               'a_and_b': 'BuzzFeed: ↑ Engagement',\n",
    "                                               'not_a_and_not_b': 'BuzzFeed: ↓ Engagement',\n",
    "                                               'not_a': 'Ignored by all',\n",
    "                                               'b': 'Ignored by elite, appeals to masses',\n",
    "                                               'not_b': 'Appeals to elite, ignored by masses'})\n",
    "html = st.produce_four_square_axes_explorer(\n",
    "    four_square_axes=four_square_axes,\n",
    "    x_label='NYT: Hi-Lo',\n",
    "    y_label='Buzz: Hi-Lo',\n",
    "    use_full_doc=True,\n",
    "    pmi_threshold_coefficient=0,\n",
    "    metadata=get_metadata_from_corpus(four_square_corpus),\n",
    "    censor_points=False)"
   ]
  },
  {
   "cell_type": "code",
   "execution_count": 56,
   "metadata": {},
   "outputs": [
    {
     "data": {
      "text/html": [
       "\n",
       "        <iframe\n",
       "            width=\"1600\"\n",
       "            height=\"900\"\n",
       "            src=\"reaction_axes.html\"\n",
       "            frameborder=\"0\"\n",
       "            allowfullscreen\n",
       "        ></iframe>\n",
       "        "
      ],
      "text/plain": [
       "<IPython.lib.display.IFrame at 0x1338165c0>"
      ]
     },
     "execution_count": 56,
     "metadata": {},
     "output_type": "execute_result"
    }
   ],
   "source": [
    "file_name = 'reaction_axes.html'\n",
    "open(file_name, 'wb').write(html.encode('utf-8'))\n",
    "IFrame(src=file_name, width = 1600, height=900)"
   ]
  },
  {
   "cell_type": "code",
   "execution_count": 59,
   "metadata": {},
   "outputs": [
    {
     "data": {
      "text/html": [
       "\n",
       "        <iframe\n",
       "            width=\"1600\"\n",
       "            height=\"900\"\n",
       "            src=\"reaction_semiotic_censor.html\"\n",
       "            frameborder=\"0\"\n",
       "            allowfullscreen\n",
       "        ></iframe>\n",
       "        "
      ],
      "text/plain": [
       "<IPython.lib.display.IFrame at 0x160e1e6d8>"
      ]
     },
     "execution_count": 59,
     "metadata": {},
     "output_type": "execute_result"
    }
   ],
   "source": [
    "# View chart with multiple terms visible\n",
    "# Set up chart structure\n",
    "four_square = st.FourSquare(\n",
    "    four_square_corpus,\n",
    "    category_a_list=['NYTimes Hi'],\n",
    "    category_b_list=['BuzzFeed Hi'],\n",
    "    not_category_a_list=['BuzzFeed Lo'],\n",
    "    not_category_b_list=['NYTimes Lo'],\n",
    "    scorer=st.RankDifference(),\n",
    "    labels={'a': 'Highbrow Engagment',\n",
    "            'b': 'Lowbrow Engagment',\n",
    "            'not_a_and_not_b': 'Few Facebook Reactions',\n",
    "            'a_and_b': 'Many Facebook Reactions',\n",
    "            'a_and_not_b': 'NYTimes',\n",
    "            'b_and_not_a': 'BuzzFeed',\n",
    "            'not_a': 'Lowbrow Ignored',\n",
    "            'not_b': 'Highbrow Ignored'})\n",
    "html = st.produce_four_square_explorer(four_square=four_square,\n",
    "                                       x_label='NYTimes-Buzz',\n",
    "                                       y_label='Hi-Low',\n",
    "                                       use_full_doc=True,\n",
    "                                       pmi_threshold_coefficient=0,\n",
    "                                       metadata=get_metadata_from_corpus(four_square_corpus), \n",
    "                                       censor_points=False)\n",
    "file_name = 'reaction_semiotic_censor.html'\n",
    "open(file_name, 'wb').write(html.encode('utf-8'))\n",
    "IFrame(src=file_name, width = 1600, height=900)"
   ]
  },
  {
   "cell_type": "code",
   "execution_count": null,
   "metadata": {},
   "outputs": [],
   "source": []
  }
 ],
 "metadata": {
  "anaconda-cloud": {},
  "kernelspec": {
   "display_name": "Python [py36]",
   "language": "python",
   "name": "Python [py36]"
  },
  "language_info": {
   "codemirror_mode": {
    "name": "ipython",
    "version": 3
   },
   "file_extension": ".py",
   "mimetype": "text/x-python",
   "name": "python",
   "nbconvert_exporter": "python",
   "pygments_lexer": "ipython3",
   "version": "3.6.1"
  }
 },
 "nbformat": 4,
 "nbformat_minor": 2
}
